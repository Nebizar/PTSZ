{
 "cells": [
  {
   "cell_type": "code",
   "execution_count": 2,
   "metadata": {},
   "outputs": [],
   "source": [
    "import numpy as np\n",
    "import pandas as pd\n",
    "import math"
   ]
  },
  {
   "cell_type": "markdown",
   "metadata": {},
   "source": [
    "## GENERATOR"
   ]
  },
  {
   "cell_type": "code",
   "execution_count": 9,
   "metadata": {},
   "outputs": [],
   "source": [
    "file1 = open(\"50.txt\",\"w\")\n",
    "\n",
    "# p - czas trwania\n",
    "# r - ready time\n",
    "# d - czas zakończenia\n",
    "\n",
    "n = 50\n",
    "SUMA = 0\n",
    "P = []\n",
    "R = []\n",
    "D = []\n",
    "\n",
    "file1.write(str(n) + '\\n')\n",
    "  \n",
    "for i in range(0, n):\n",
    "    \n",
    "    #  P\n",
    "    k = np.random.choice([1, 2, 3], p=[0.2, 0.6, 0.2])\n",
    "    if  k == 1:\n",
    "        P.append(np.random.randint(1, 20)) \n",
    "    if  k == 2:\n",
    "        P.append(np.random.randint(20, 40)) \n",
    "    if  k == 3:\n",
    "        P.append(np.random.randint(40, 60)) \n",
    "\n",
    "SUMA = np.sum(P)\n",
    "\n",
    "for i in range(0, n):\n",
    "    #  R\n",
    "    k = np.random.choice([0, 1, 2, 3], p=[0.2, 0.25, 0.25, 0.3])\n",
    "    if k == 0:\n",
    "          R.append(np.random.randint(0, n/2))\n",
    "    if k == 1:\n",
    "          R.append(np.random.randint(n/2, SUMA/12))\n",
    "    if k == 2:\n",
    "          R.append(np.random.randint(SUMA/12, SUMA/8))\n",
    "    if k == 3:\n",
    "          R.append(np.random.randint(SUMA/8, SUMA/4))\n",
    "            \n",
    "minn = min(R)\n",
    "if minn > 0:\n",
    "    R = [x - minn for x in R]\n",
    "\n",
    "for i in range(0, n):\n",
    "    # D\n",
    "    start = R[i]+P[i]\n",
    "    k = np.random.choice([0, 1], p=[0.5, 0.5])\n",
    "    if k == 0:\n",
    "          D.append(np.random.randint(start, start+math.ceil(0.5*P[i])))\n",
    "    if k == 1:\n",
    "          D.append(np.random.randint(start, start+1.5*P[i]))\n",
    "    \n",
    "for i in range(0, n):\n",
    "    file1.write(str(P[i]) + \" \" + str(R[i]) + \" \" + str(D[i]) + '\\n')\n",
    "\n",
    "#     print(str(P[i]) + ' ' + str(R[i]) + ' ' + str(D[i]))\n",
    "# print(SUMA)\n",
    " \n",
    "  \n"
   ]
  },
  {
   "cell_type": "markdown",
   "metadata": {},
   "source": [
    "## WERYFIKATOR"
   ]
  },
  {
   "cell_type": "code",
   "execution_count": 10,
   "metadata": {},
   "outputs": [
    {
     "name": "stdout",
     "output_type": "stream",
     "text": [
      "14750\n"
     ]
    }
   ],
   "source": [
    "file = open(\"50.txt\",\"r\")\n",
    "N = file.readline()\n",
    "\n",
    "tasks = file.read()\n",
    "tasks = tasks.split('\\n')\n",
    "\n",
    "\n",
    "K = int(int(N)/4)\n",
    "\n",
    "Tardiness = 0\n",
    "for machine in range(0, 4):\n",
    "    D = 0\n",
    "    TIME = 0\n",
    "    for i in range((K*machine), K*(machine+1)):\n",
    "        task = tasks[i].split(' ')\n",
    "        p = int(task[0])\n",
    "        r = int(task[1])\n",
    "        d = int(task[2])\n",
    "        if TIME < r:\n",
    "            TIME = r\n",
    "        TIME += p\n",
    "\n",
    "        if TIME > d:\n",
    "            D += TIME-d\n",
    "    Tardiness += D\n",
    "        \n",
    "        \n",
    "print(Tardiness)"
   ]
  },
  {
   "cell_type": "markdown",
   "metadata": {},
   "source": [
    "## WERYFIKATOR"
   ]
  },
  {
   "cell_type": "code",
   "execution_count": 91,
   "metadata": {},
   "outputs": [
    {
     "name": "stdout",
     "output_type": "stream",
     "text": [
      "2115\n",
      "\n",
      "2115\n"
     ]
    }
   ],
   "source": [
    "file = open(\"50.txt\",\"r\")\n",
    "result = open(\"wynik.txt\",\"r\")\n",
    "N = file.readline()\n",
    "T = result.readline()\n",
    "\n",
    "tasks = file.read()\n",
    "tasks = tasks.split('\\n')\n",
    "tasks.remove('')\n",
    "\n",
    "line = result.read()\n",
    "line = line.split('\\n')\n",
    "line.remove('')\n",
    "\n",
    "\n",
    "P = []\n",
    "R = []\n",
    "D = []\n",
    "M = [[], [], [], []]\n",
    "\n",
    "for i in range(0, int(N)):\n",
    "    task = tasks[i].split(' ')\n",
    "    P.append(int(task[0]))\n",
    "    R.append(int(task[1]))\n",
    "    D.append(int(task[2]))\n",
    "    \n",
    "data = {'P' : P, 'R' : R, 'D' : D}\n",
    "df = pd.DataFrame(data)\n",
    "\n",
    "\n",
    "Tardiness = 0\n",
    "\n",
    "\n",
    "for i in range(0, 4):\n",
    "    TIME = 0\n",
    "    task = line[i].split(' ')\n",
    "    for j in task:\n",
    "        j = int(j)\n",
    "        if TIME < df.R[j]:\n",
    "            TIME = df.R[j]\n",
    "        TIME += df.P[j]\n",
    "        if TIME > df.D[j]:\n",
    "            Tardiness += TIME - df.D[j]\n",
    "        \n",
    "    \n",
    "\n",
    "\n",
    "print(T)\n",
    "print(Tardiness)\n"
   ]
  },
  {
   "cell_type": "markdown",
   "metadata": {},
   "source": [
    "## ALG. LISTOWY"
   ]
  },
  {
   "cell_type": "code",
   "execution_count": 88,
   "metadata": {},
   "outputs": [
    {
     "name": "stdout",
     "output_type": "stream",
     "text": [
      "2115\n",
      "[[16, 30, 17, 34, 3, 45, 6, 28, 11, 38, 48, 1, 23, 29], [21, 7, 42, 46, 8, 41, 37, 31, 32, 39], [47, 35, 4, 5, 24, 36, 44, 49, 15, 12, 0], [26, 9, 25, 27, 13, 43, 10, 18, 19, 33, 14, 22, 40, 20, 2]]\n"
     ]
    }
   ],
   "source": [
    "file = open(\"50.txt\",\"r\")\n",
    "result = open(\"wynik.txt\",\"w\")\n",
    "N = file.readline()\n",
    "\n",
    "tasks = file.read()\n",
    "tasks = tasks.split('\\n')\n",
    "tasks.remove('')\n",
    "\n",
    "P = []\n",
    "R = []\n",
    "D = []\n",
    "M = [[], [], [], []]\n",
    "\n",
    "for i in range(0, int(N)):\n",
    "    task = tasks[i].split(' ')\n",
    "    P.append(int(task[0]))\n",
    "    R.append(int(task[1]))\n",
    "    D.append(int(task[2]))\n",
    "    \n",
    "data = {'P' : P, 'R' : R, 'D' : D}\n",
    "df = pd.DataFrame(data)\n",
    "# df = df.sort_values(['R', 'D'],)\n",
    "df = df.sort_values(['D', 'R'],)\n",
    "df_sorted = df.reset_index()\n",
    "\n",
    "TIME = [0, 0, 0, 0]\n",
    "D = [0, 0, 0, 0]\n",
    "m = 0\n",
    "for task in range(0, len(df_sorted)):\n",
    "        time_min = TIME[0]\n",
    "        m = 0\n",
    "        for k in range(1, 4):\n",
    "            if TIME[k] < time_min:\n",
    "                time_min = TIME[k]\n",
    "                m = k\n",
    "        \n",
    "        if TIME[m] < df_sorted.R[task]:\n",
    "            TIME[m] = df_sorted.R[task]\n",
    "        TIME[m] += df_sorted.P[task]\n",
    "        if TIME[m] > df_sorted.D[task]:\n",
    "            D[m] += TIME[m] - df_sorted.D[task]\n",
    "            \n",
    "        M[m].append(df.index[task])\n",
    "\n",
    "         \n",
    "        \n",
    "print(sum(D))\n",
    "print(M)\n",
    "\n",
    "result.write(str(sum(D)) + '\\n')\n",
    "for i in range(0, 4):\n",
    "    for j in range(0, len(M[i])):\n",
    "        if j == 0:\n",
    "            result.write(str(M[i][j])) \n",
    "        else:\n",
    "            result.write(' ' + str(M[i][j]))\n",
    "    result.write('\\n')"
   ]
  },
  {
   "cell_type": "code",
   "execution_count": null,
   "metadata": {},
   "outputs": [],
   "source": [
    "TIME4"
   ]
  }
 ],
 "metadata": {
  "kernelspec": {
   "display_name": "Python 3",
   "language": "python",
   "name": "python3"
  },
  "language_info": {
   "codemirror_mode": {
    "name": "ipython",
    "version": 3
   },
   "file_extension": ".py",
   "mimetype": "text/x-python",
   "name": "python",
   "nbconvert_exporter": "python",
   "pygments_lexer": "ipython3",
   "version": "3.5.5"
  }
 },
 "nbformat": 4,
 "nbformat_minor": 2
}
